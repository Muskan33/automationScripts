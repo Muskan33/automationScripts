{
 "cells": [
  {
   "cell_type": "code",
   "execution_count": 1,
   "metadata": {},
   "outputs": [],
   "source": [
    "import requests\n"
   ]
  },
  {
   "cell_type": "code",
   "execution_count": 18,
   "metadata": {},
   "outputs": [],
   "source": [
    "r=requests.get(\"http://m.facebook.com\")"
   ]
  },
  {
   "cell_type": "code",
   "execution_count": 3,
   "metadata": {},
   "outputs": [
    {
     "data": {
      "text/plain": [
       "<Response [200]>"
      ]
     },
     "execution_count": 3,
     "metadata": {},
     "output_type": "execute_result"
    }
   ],
   "source": [
    "r\n"
   ]
  },
  {
   "cell_type": "code",
   "execution_count": 7,
   "metadata": {},
   "outputs": [
    {
     "data": {
      "text/plain": [
       "'http://m.fabebook.com/'"
      ]
     },
     "execution_count": 7,
     "metadata": {},
     "output_type": "execute_result"
    }
   ],
   "source": [
    "r.url"
   ]
  },
  {
   "cell_type": "code",
   "execution_count": 20,
   "metadata": {},
   "outputs": [
    {
     "data": {
      "text/plain": [
       "{'Date': 'Wed, 17 Apr 2019 14:49:38 GMT', 'Cache-Control': 'no-cache', 'Pragma': 'no-cache', 'Content-Type': 'text/html; charset=\"UTF-8\"', 'Content-Length': '584', 'Via': 'HTTP/1.1 forward.http.proxy:3128', 'Connection': 'close'}"
      ]
     },
     "execution_count": 20,
     "metadata": {},
     "output_type": "execute_result"
    }
   ],
   "source": [
    "r.headers"
   ]
  },
  {
   "cell_type": "code",
   "execution_count": 21,
   "metadata": {},
   "outputs": [],
   "source": [
    "t=requests.get(\"http://m.facebook.com\")"
   ]
  },
  {
   "cell_type": "code",
   "execution_count": 27,
   "metadata": {},
   "outputs": [
    {
     "data": {
      "text/plain": [
       "{'Content-Encoding': 'gzip', 'Expires': 'Sat, 01 Jan 2000 00:00:00 GMT', 'X-XSS-Protection': '0', 'X-Frame-Options': 'DENY', 'Access-Control-Allow-Methods': 'OPTIONS', 'Pragma': 'no-cache', 'Strict-Transport-Security': 'max-age=15552000; preload; includeSubDomains', 'Access-Control-Expose-Headers': 'X-FB-Debug, X-Loader-Length', 'Access-Control-Allow-Credentials': 'true', 'Content-Type': 'text/html; charset=utf-8', 'X-Content-Type-Options': 'nosniff', 'Vary': 'Origin, Accept-Encoding', 'Cache-Control': 'private, no-cache, no-store, must-revalidate', 'Access-Control-Allow-Origin': 'https://m.facebook.com', 'Set-Cookie': 'datr=SD23XEyycQeTZHydym_ep8jh; expires=Fri, 16-Apr-2021 14:50:48 GMT; Max-Age=63071999; path=/; domain=.facebook.com; secure; httponly, sb=SD23XLVK9Yo2OwGtlFGaYEB9; expires=Fri, 16-Apr-2021 14:50:48 GMT; Max-Age=63071999; path=/; domain=.facebook.com; secure; httponly', 'X-FB-Debug': 'vjNCHW2m4iXZ6qcPLJnMyAc/pgpRen8eDHV55c3GmjW83uKhh1OAFGPt/k1ytj2SrGiNj87elhayQN418j3D3g==', 'Date': 'Wed, 17 Apr 2019 14:50:49 GMT', 'Transfer-Encoding': 'chunked', 'Connection': 'keep-alive'}"
      ]
     },
     "execution_count": 27,
     "metadata": {},
     "output_type": "execute_result"
    }
   ],
   "source": [
    "t.headers\n"
   ]
  },
  {
   "cell_type": "code",
   "execution_count": null,
   "metadata": {},
   "outputs": [],
   "source": []
  }
 ],
 "metadata": {
  "kernelspec": {
   "display_name": "Python 3",
   "language": "python",
   "name": "python3"
  },
  "language_info": {
   "codemirror_mode": {
    "name": "ipython",
    "version": 3
   },
   "file_extension": ".py",
   "mimetype": "text/x-python",
   "name": "python",
   "nbconvert_exporter": "python",
   "pygments_lexer": "ipython3",
   "version": "3.7.1"
  }
 },
 "nbformat": 4,
 "nbformat_minor": 2
}
